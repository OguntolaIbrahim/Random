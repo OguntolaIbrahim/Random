{
 "cells": [
  {
   "cell_type": "code",
   "execution_count": 3,
   "metadata": {},
   "outputs": [
    {
     "name": "stdout",
     "output_type": "stream",
     "text": [
      "Guess the Number between 1 and 100 : 12\n",
      "Cold\n",
      "Guess the Number between 1 and 100 : 60\n",
      "Warmer\n",
      "Guess the Number between 1 and 100 : 70\n",
      "Warmer\n",
      "Guess the Number between 1 and 100 : 80\n",
      "Warmer\n",
      "Guess the Number between 1 and 100 : 82\n",
      "Warmer\n",
      "Guess the Number between 1 and 100 : 85\n",
      "Warmer\n",
      "Guess the Number between 1 and 100 : 88\n",
      "Warmer\n",
      "Guess the Number between 1 and 100 : 90\n",
      "Warmer\n",
      "Guess the Number between 1 and 100 : 90\n",
      "Warmer\n",
      "Guess the Number between 1 and 100 : 99\n",
      "Colder\n",
      "Guess the Number between 1 and 100 : 94\n",
      "Warmer\n",
      "Guess the Number between 1 and 100 : 93\n",
      "Warmer\n",
      "Guess the Number between 1 and 100 : 92\n",
      "Warmer\n",
      "Guess the Number between 1 and 100 : 91\n",
      "Warmer\n",
      "you have guessed correct 🙌🙌. You made 14 guesses\n"
     ]
    }
   ],
   "source": [
    "from random import randint\n",
    "\n",
    "input_no=0\n",
    "correct_no=randint(1,100)\n",
    "guess_count=0\n",
    "while input_no!=correct_no:\n",
    "    last_no=input_no\n",
    "    guess_count+=1\n",
    "    input_no=int(input('Guess the Number between 1 and 100 : '))\n",
    "    if guess_count==1:\n",
    "        if abs(input_no-correct_no)<10:\n",
    "            print('Warm')\n",
    "        else:\n",
    "            print('Cold')\n",
    "    else:\n",
    "        if abs(input_no-correct_no)>abs(last_no-correct_no):\n",
    "            print('Colder')\n",
    "        else:\n",
    "            print('Warmer')\n",
    "    \n",
    "else: \n",
    "    print('you have guessed correct 🙌🙌. You made {} guesses'.format(guess_count))\n",
    "    \n"
   ]
  },
  {
   "cell_type": "code",
   "execution_count": null,
   "metadata": {},
   "outputs": [],
   "source": []
  }
 ],
 "metadata": {
  "kernelspec": {
   "display_name": "Python 3",
   "language": "python",
   "name": "python3"
  },
  "language_info": {
   "codemirror_mode": {
    "name": "ipython",
    "version": 3
   },
   "file_extension": ".py",
   "mimetype": "text/x-python",
   "name": "python",
   "nbconvert_exporter": "python",
   "pygments_lexer": "ipython3",
   "version": "3.7.4"
  }
 },
 "nbformat": 4,
 "nbformat_minor": 2
}
