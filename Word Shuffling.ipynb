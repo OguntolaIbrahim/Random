{
 "cells": [
  {
   "cell_type": "code",
   "execution_count": 15,
   "metadata": {},
   "outputs": [],
   "source": [
    "def swap_string(stri):\n",
    "    str_list = list(stri)\n",
    "    \n",
    "    stop_index = int(input('input index position of end letter starting the count from 0: '))\n",
    "    stop_letter = str_list[stop_index]\n",
    "    \n",
    "    a = len(str_list)\n",
    "    cond = True\n",
    "    while cond:\n",
    "        for x in range(1,a+1):\n",
    "            r = a - x\n",
    "            b = 0\n",
    "            while b < r and r != 0 and str_list[0] != stop_letter:\n",
    "                b += 1\n",
    "                c = str_list[b-1]\n",
    "                d = str_list[b]\n",
    "                str_list[b] = c\n",
    "                str_list[b-1] = d\n",
    "                print(''.join(str_list))\n",
    "                \n",
    "            if str_list[0] == stop_letter:\n",
    "                print('The string has been shuffled')\n",
    "                cond = False\n",
    "                break\n",
    "                                 \n",
    "                \n",
    "        else:\n",
    "            cond = False"
   ]
  },
  {
   "cell_type": "code",
   "execution_count": null,
   "metadata": {},
   "outputs": [],
   "source": [
    "swap_string('GUMRE')"
   ]
  },
  {
   "cell_type": "code",
   "execution_count": 4,
   "metadata": {},
   "outputs": [
    {
     "name": "stdout",
     "output_type": "stream",
     "text": [
      "type the word to be shuffled here: hkoi\n",
      "input the desired anagram: koih\n"
     ]
    }
   ],
   "source": [
    "\n"
   ]
  },
  {
   "cell_type": "code",
   "execution_count": 12,
   "metadata": {},
   "outputs": [
    {
     "name": "stdout",
     "output_type": "stream",
     "text": [
      "type the word to be shuffled here: hjkl\n",
      "input the desired anagram: jkhl\n"
     ]
    }
   ],
   "source": [
    "word = input('type the word to be shuffled here: ').upper()\n",
    "word_list = list(word)\n",
    "\n",
    "\n",
    "des_word = input('input the desired anagram: ').upper()\n",
    "des_list = list(des_word)\n",
    "l = len(word_list)\n",
    "def index_map(word):\n",
    "    index_list = []\n",
    "    for x in word_list:\n",
    "        a = des_list.index(x)\n",
    "        index_list.append(a)\n",
    "    return index_list\n",
    "position = index_map(word)\n",
    "arb_list = word_list.copy()\n",
    "'''\n",
    "trying to figure out how to work in the opposite direction\n",
    "'''\n",
    "\n",
    "def word_swap(word):\n",
    "    i = 0 \n",
    "    for y in word_list:\n",
    "        j= 0 \n",
    "        while y != arb_list[position[i]]:\n",
    "            \n",
    "            if position[i] - arb_list.index(y) > 0:\n",
    "                c = arb_list[j]\n",
    "                d = arb_list[j+1]\n",
    "                arb_list[j+1] = c\n",
    "                arb_list[j] = d\n",
    "                \n",
    "            if position[i] - arb_list.index(y) < 0:\n",
    "                c = arb_list\n",
    "            j += 1\n",
    "                \n",
    "        i += 1\n",
    "        "
   ]
  },
  {
   "cell_type": "code",
   "execution_count": 13,
   "metadata": {},
   "outputs": [
    {
     "data": {
      "text/plain": [
       "[2, 0, 1, 3]"
      ]
     },
     "execution_count": 13,
     "metadata": {},
     "output_type": "execute_result"
    }
   ],
   "source": [
    "index_map('GUMSORE')\n"
   ]
  },
  {
   "cell_type": "raw",
   "metadata": {},
   "source": [
    "word_swap('GUMSORE')"
   ]
  },
  {
   "cell_type": "code",
   "execution_count": 14,
   "metadata": {},
   "outputs": [],
   "source": [
    "word_swap('GUMSORE')"
   ]
  },
  {
   "cell_type": "code",
   "execution_count": 55,
   "metadata": {},
   "outputs": [
    {
     "name": "stdout",
     "output_type": "stream",
     "text": [
      "G 1\n",
      "U 2\n",
      "M 3\n",
      "S 4\n",
      "O 5\n",
      "R 6\n",
      "E 7\n"
     ]
    }
   ],
   "source": []
  },
  {
   "cell_type": "code",
   "execution_count": null,
   "metadata": {},
   "outputs": [],
   "source": [
    "n=0\n",
    "while cond=True:\n",
    "    y=word[n]\n",
    "    \n",
    "    \n",
    "    if wordlist==abr_list:\n",
    "        cond=False\n",
    "    n+=1\n",
    "    "
   ]
  }
 ],
 "metadata": {
  "kernelspec": {
   "display_name": "Python 3 (ipykernel)",
   "language": "python",
   "name": "python3"
  },
  "language_info": {
   "codemirror_mode": {
    "name": "ipython",
    "version": 3
   },
   "file_extension": ".py",
   "mimetype": "text/x-python",
   "name": "python",
   "nbconvert_exporter": "python",
   "pygments_lexer": "ipython3",
   "version": "3.9.7"
  }
 },
 "nbformat": 4,
 "nbformat_minor": 2
}
